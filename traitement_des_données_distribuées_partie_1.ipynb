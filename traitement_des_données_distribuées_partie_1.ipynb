{
  "nbformat": 4,
  "nbformat_minor": 0,
  "metadata": {
    "colab": {
      "name": "traitement_des_données_distribués_partie_1.ipynb",
      "provenance": [],
      "collapsed_sections": [],
      "toc_visible": true
    },
    "kernelspec": {
      "name": "python3",
      "display_name": "Python 3"
    }
  },
  "cells": [
    {
      "cell_type": "markdown",
      "metadata": {
        "id": "mHSTwzQlJpJQ",
        "colab_type": "text"
      },
      "source": [
        "## Utilisation de pyspark pour un pipeline machine learning : classification du genre sur les discours politiques français\n",
        "\n",
        "### Jing TAN & Melchior PRUGNIAUD \n",
        "###### MS DS || ENSAE\n",
        "\n",
        "Ce sujet réalise des traitements de NLP. Etant donné la complexité de certaines fonctions que nous allons utilisés, il est important de distribué ces computations afin de réduire le temps de travail qui normalement sur une seule machine prendrait des heures. C'est pourquoi utiliser PySpark nous semble être une bonne solution.\n",
        "\n",
        "Le but ici est de comprendre l'utilisation de PySpark tout en développant un pipeline de machine learning facilement exécutable.\n",
        "\n",
        "Nous avions un problème pour utiliser plusieurs packages sur le cluster de l'ENSAE, c'est pourquoi nous avons au final décider de réaliser l'ensemble des opérations directement sous collab car nous avons plus de maniabilité que sur le cluster.\n"
      ]
    },
    {
      "cell_type": "markdown",
      "metadata": {
        "id": "Pt9vJLo4Jonu",
        "colab_type": "text"
      },
      "source": [
        "### Partie I : Methode de Machine Learning avec des hyperparamètres réglés"
      ]
    },
    {
      "cell_type": "markdown",
      "metadata": {
        "id": "UsIREa_aKoCy",
        "colab_type": "text"
      },
      "source": [
        "#### Colab Setup"
      ]
    },
    {
      "cell_type": "code",
      "metadata": {
        "id": "GpryNvXfJLgU",
        "colab_type": "code",
        "outputId": "b3f27f8f-72bc-474a-f112-eb524e4a2961",
        "colab": {
          "base_uri": "https://localhost:8080/",
          "height": 445
        }
      },
      "source": [
        "import os\n",
        "\n",
        "# Install java\n",
        "! apt-get install -y openjdk-8-jdk-headless -qq > /dev/null\n",
        "os.environ[\"JAVA_HOME\"] = \"/usr/lib/jvm/java-8-openjdk-amd64\"\n",
        "os.environ[\"PATH\"] = os.environ[\"JAVA_HOME\"] + \"/bin:\" + os.environ[\"PATH\"]\n",
        "! java -version\n",
        "\n",
        "# Install pyspark\n",
        "! pip install --ignore-installed pyspark==2.4.4\n",
        "\n",
        "# Install Spark NLP\n",
        "! pip install --ignore-installed spark-nlp==2.5.0\n",
        "\n",
        "# Quick SparkSession start\n",
        "import sparknlp\n",
        "spark = sparknlp.start()\n",
        "\n",
        "print(\"Spark NLP version\")\n",
        "sparknlp.version()\n",
        "print(\"Apache Spark version\")\n",
        "spark.version"
      ],
      "execution_count": 0,
      "outputs": [
        {
          "output_type": "stream",
          "text": [
            "openjdk version \"1.8.0_252\"\n",
            "OpenJDK Runtime Environment (build 1.8.0_252-8u252-b09-1~18.04-b09)\n",
            "OpenJDK 64-Bit Server VM (build 25.252-b09, mixed mode)\n",
            "Collecting pyspark==2.4.4\n",
            "\u001b[?25l  Downloading https://files.pythonhosted.org/packages/87/21/f05c186f4ddb01d15d0ddc36ef4b7e3cedbeb6412274a41f26b55a650ee5/pyspark-2.4.4.tar.gz (215.7MB)\n",
            "\u001b[K     |████████████████████████████████| 215.7MB 61kB/s \n",
            "\u001b[?25hCollecting py4j==0.10.7\n",
            "\u001b[?25l  Downloading https://files.pythonhosted.org/packages/e3/53/c737818eb9a7dc32a7cd4f1396e787bd94200c3997c72c1dbe028587bd76/py4j-0.10.7-py2.py3-none-any.whl (197kB)\n",
            "\u001b[K     |████████████████████████████████| 204kB 44.6MB/s \n",
            "\u001b[?25hBuilding wheels for collected packages: pyspark\n",
            "  Building wheel for pyspark (setup.py) ... \u001b[?25l\u001b[?25hdone\n",
            "  Created wheel for pyspark: filename=pyspark-2.4.4-py2.py3-none-any.whl size=216130388 sha256=7b16ffff769dc0a6822b94d68083d36da1cfde593201a02a1ce730064096b24f\n",
            "  Stored in directory: /root/.cache/pip/wheels/ab/09/4d/0d184230058e654eb1b04467dbc1292f00eaa186544604b471\n",
            "Successfully built pyspark\n",
            "Installing collected packages: py4j, pyspark\n",
            "Successfully installed py4j-0.10.7 pyspark-2.4.4\n",
            "Collecting spark-nlp==2.5.0\n",
            "\u001b[?25l  Downloading https://files.pythonhosted.org/packages/75/b0/f50d169c49f5982f8be9e86e285b53e23f91fd7db0d10646c2d1de5c3ad0/spark_nlp-2.5.0-py2.py3-none-any.whl (120kB)\n",
            "\u001b[K     |████████████████████████████████| 122kB 2.7MB/s \n",
            "\u001b[?25hInstalling collected packages: spark-nlp\n",
            "Successfully installed spark-nlp-2.5.0\n",
            "Spark NLP version\n",
            "Apache Spark version\n"
          ],
          "name": "stdout"
        },
        {
          "output_type": "execute_result",
          "data": {
            "text/plain": [
              "'2.4.4'"
            ]
          },
          "metadata": {
            "tags": []
          },
          "execution_count": 5
        }
      ]
    },
    {
      "cell_type": "code",
      "metadata": {
        "id": "XD3daoAkJgm_",
        "colab_type": "code",
        "outputId": "7b07d8fc-25f4-44fa-caea-674a3b16d4c7",
        "colab": {
          "base_uri": "https://localhost:8080/",
          "height": 71
        }
      },
      "source": [
        "from pyspark.sql import SparkSession\n",
        "from pyspark.sql.functions import udf, size\n",
        "import pandas as pd\n",
        "import matplotlib.pyplot as plt\n",
        "import seaborn as sns\n",
        "import string\n",
        "from functools import reduce\n",
        "from sparknlp.annotator import Tokenizer,SentenceDetector,StopWordsCleaner,PerceptronApproach\n",
        "from operator import add\n",
        "import nltk\n",
        "import sparknlp\n",
        "from collections import Counter\n",
        "from pyspark.sql.types import StringType,ArrayType\n",
        "from sparknlp.base import Pipeline,DocumentAssembler\n",
        "from sparknlp.pretrained import PretrainedPipeline\n",
        "from spacy.lang.fr.stop_words import STOP_WORDS as fr_stop\n",
        "from sparknlp.base import *\n",
        "from sparknlp.pretrained import PretrainedPipeline\n",
        "from sparknlp.annotator import *"
      ],
      "execution_count": 0,
      "outputs": [
        {
          "output_type": "stream",
          "text": [
            "/usr/local/lib/python3.6/dist-packages/statsmodels/tools/_testing.py:19: FutureWarning: pandas.util.testing is deprecated. Use the functions in the public API at pandas.testing instead.\n",
            "  import pandas.util.testing as tm\n"
          ],
          "name": "stderr"
        }
      ]
    },
    {
      "cell_type": "markdown",
      "metadata": {
        "id": "liK3rq9tJ8zp",
        "colab_type": "text"
      },
      "source": [
        "##### Construction d'une session spark pour réaliser les divers traitements\n",
        "\n",
        "Dans un premier temps nous allons créer une [session spark](https://spark.apache.org/docs/2.3.0/api/python/pyspark.sql.html#pyspark.sql.SparkSession) afin de pouvoir intéragir avec un dataset.\n"
      ]
    },
    {
      "cell_type": "code",
      "metadata": {
        "id": "zlUiwTkbJhOW",
        "colab_type": "code",
        "outputId": "f93eb16b-83de-4f23-a6e5-f80035ee9f12",
        "colab": {
          "base_uri": "https://localhost:8080/",
          "height": 216
        }
      },
      "source": [
        "spark = sparknlp.start()\n",
        "spark"
      ],
      "execution_count": 0,
      "outputs": [
        {
          "output_type": "execute_result",
          "data": {
            "text/html": [
              "\n",
              "            <div>\n",
              "                <p><b>SparkSession - in-memory</b></p>\n",
              "                \n",
              "        <div>\n",
              "            <p><b>SparkContext</b></p>\n",
              "\n",
              "            <p><a href=\"http://2326e365bb09:4040\">Spark UI</a></p>\n",
              "\n",
              "            <dl>\n",
              "              <dt>Version</dt>\n",
              "                <dd><code>v2.4.4</code></dd>\n",
              "              <dt>Master</dt>\n",
              "                <dd><code>local[*]</code></dd>\n",
              "              <dt>AppName</dt>\n",
              "                <dd><code>Spark NLP</code></dd>\n",
              "            </dl>\n",
              "        </div>\n",
              "        \n",
              "            </div>\n",
              "        "
            ],
            "text/plain": [
              "<pyspark.sql.session.SparkSession at 0x7fbe67722748>"
            ]
          },
          "metadata": {
            "tags": []
          },
          "execution_count": 3
        }
      ]
    },
    {
      "cell_type": "markdown",
      "metadata": {
        "id": "kZFJkvpCKB5o",
        "colab_type": "text"
      },
      "source": [
        "Importons le dataframe, un import direct dans spark cause des problèmes vis à vis des NaN et les colonnes ne sont plus bien alignés. C'est pourquoi nous passons d'abord par pandas pour ensuite transferer notre dataframe dans spark.\n",
        "\n",
        "Le dataframe que nous prenons est issus d'un scraping du site https://www.vie-publique.fr/discours ,réalisé à l'aide de scrapy (scrapper disponible dans le dossier scraper). Nous allons dans un premier temps réalisé des opérations visant à obtenir le sexe lié à chaque discours via une base de prénoms de l'INSEE.\n"
      ]
    },
    {
      "cell_type": "markdown",
      "metadata": {
        "id": "dhoU92tmKJ4J",
        "colab_type": "text"
      },
      "source": [
        "### /!\\ Ne pas executer ci dessous  /!\\\n",
        "Au départ nous voulions éxecuter ces manipulations sous pyspark mais sans savoir pourquoi (peut être une taille trop conséquente?), au final il n'était plus possible montrer quelques lignes pour vérifier si le résultat escompté était le bon et il n'était pas possible non plus d'enregistrer le dataframe ensuite en csv (ou le rexporter vers pandas via toPandas())."
      ]
    },
    {
      "cell_type": "code",
      "metadata": {
        "id": "Deqn9YpfJ7FS",
        "colab_type": "code",
        "colab": {}
      },
      "source": [
        "df = pd.read_csv('discours6.csv',sep=\",\")"
      ],
      "execution_count": 0,
      "outputs": []
    },
    {
      "cell_type": "markdown",
      "metadata": {
        "id": "s5Jjl13iKLcM",
        "colab_type": "text"
      },
      "source": [
        "De plus, nous ne gardons que les discours et les déclarations car nous sommes quasi sur pour chaque texte qu'il s'agisse bien d'un monologue. Pour les autres plusieurs personnes peuvent parler."
      ]
    },
    {
      "cell_type": "code",
      "metadata": {
        "id": "tGVmyGcgKMse",
        "colab_type": "code",
        "colab": {}
      },
      "source": [
        "df = df[(df.Type.apply(lambda x:x.lower()) == 'discours') | (df.Type.apply(lambda x:x.lower()) ==\"déclaration\")]\n",
        "df = df[df.Texte.notna()]\n",
        "df.fillna('',inplace=True)\n",
        "df.Nom = df.Nom.map(str).apply(lambda x : x.replace(\",\",\" \"))\n",
        "df['PRENOM']=df.Prenom.map(str).apply(lambda x:x.upper())\n",
        "df.drop('Prenom',axis=1,inplace=True)"
      ],
      "execution_count": 0,
      "outputs": []
    },
    {
      "cell_type": "code",
      "metadata": {
        "id": "2kErsFT2KP32",
        "colab_type": "code",
        "colab": {}
      },
      "source": [
        "df = spark.createDataFrame(df)"
      ],
      "execution_count": 0,
      "outputs": []
    },
    {
      "cell_type": "markdown",
      "metadata": {
        "id": "pyoL3Fm5KRZz",
        "colab_type": "text"
      },
      "source": [
        "Chargeons désormais la base prenoms et manipulons là pour obtenir un dataframe permettant par la suite de joindre la base discours"
      ]
    },
    {
      "cell_type": "code",
      "metadata": {
        "id": "g9-VckX1KRrY",
        "colab_type": "code",
        "colab": {}
      },
      "source": [
        "prenoms = spark.read.csv(\"nat2018.csv\",sep=\";\",header=True)\n",
        "print('Nombre de ligne {} au départ'.format(prenoms.count()))\n",
        "prenoms = prenoms.groupby(['preusuel','sexe']).sum()\n",
        "print('Nombre de ligne {} après groupBy'.format(prenoms.count()))\n",
        "prenoms = prenoms.dropDuplicates()\n",
        "print('Nombre de ligne {} après dropDuplicates'.format(prenoms.count()))"
      ],
      "execution_count": 0,
      "outputs": []
    },
    {
      "cell_type": "code",
      "metadata": {
        "id": "e-DGcSuAKVKb",
        "colab_type": "code",
        "colab": {}
      },
      "source": [
        "df = df.join(prenoms,df.PRENOM == prenoms.preusuel,how='left')\n",
        "df = df.drop(*['PRENOM','preusuel','Lien'])"
      ],
      "execution_count": 0,
      "outputs": []
    },
    {
      "cell_type": "code",
      "metadata": {
        "id": "Yi1bsXscKYvO",
        "colab_type": "code",
        "colab": {}
      },
      "source": [
        "sub = df.select(['Date','Sexe']).sample(withReplacement=False, fraction=0.1, seed=42)\n",
        "sub_pd= sub.toPandas()"
      ],
      "execution_count": 0,
      "outputs": []
    },
    {
      "cell_type": "markdown",
      "metadata": {
        "id": "02nANxTeKT8q",
        "colab_type": "text"
      },
      "source": [
        "N'en fini pas de tourner... pour finir sur un timeout.\n",
        "### Executer ici\n",
        "\n",
        "Nous réalisons donc la jointure sur pandas, ce qui ne prends presque pas de temps. "
      ]
    },
    {
      "cell_type": "code",
      "metadata": {
        "id": "kt-cS1F3KnFy",
        "colab_type": "code",
        "colab": {}
      },
      "source": [
        "def remove_source(x):\n",
        "    \"\"\"\n",
        "      Input : Texte \n",
        "      Output : Texte sans le dernier paragraphe\n",
        "    \"\"\"\n",
        "    x =  x[:x.find('Source:')]\n",
        "    return x[:x.find('Source http')]"
      ],
      "execution_count": 0,
      "outputs": []
    },
    {
      "cell_type": "code",
      "metadata": {
        "id": "8SHo_baQKnqJ",
        "colab_type": "code",
        "colab": {}
      },
      "source": [
        "df = pd.read_csv('discours6.csv',sep=\",\")\n",
        "df = df[(df.Type.apply(lambda x:x.lower()) == 'discours') | (df.Type.apply(lambda x:x.lower()) ==\"déclaration\")]\n",
        "df = df[df.Texte.notna()]\n",
        "df.fillna('',inplace=True)\n",
        "df.Nom = df.Nom.map(str).apply(lambda x : x.replace(\",\",\" \"))\n",
        "df['PRENOM']=df.Prenom.map(str).apply(lambda x:x.upper())\n",
        "df.drop('Prenom',axis=1,inplace=True)\n",
        "prenoms = pd.read_csv('nat2018.csv',sep=';')\n",
        "prenoms=prenoms.groupby(['preusuel','sexe'],as_index=False).sum()\n",
        "prenoms=prenoms.sort_values(['nombre'],ascending=True)\n",
        "prenoms=prenoms.drop_duplicates(subset=['preusuel'],keep='last')\n",
        "prenoms=prenoms[['preusuel','sexe']]\n",
        "df = pd.merge(df,prenoms,how='left',left_on='PRENOM',right_on='preusuel')\n",
        "df.drop(['preusuel','Lien'],axis=1,inplace=True)\n",
        "df =  df[df.Texte.apply(len)>1000] #on ne garde que les texte avec au moins 1000caractères\n",
        "df.Texte = df.Texte.apply(lambda x : x.replace('\\xa0','').replace('\\x85','').replace('\\x96','').replace('\\x92',\"'\").replace('\\x80',''))\n",
        "df.Texte = df.Texte.apply(remove_source)"
      ],
      "execution_count": 0,
      "outputs": []
    },
    {
      "cell_type": "code",
      "metadata": {
        "id": "1L3ZHYfZKotD",
        "colab_type": "code",
        "outputId": "ddd1ebe4-767e-46b6-e408-f0fae69df44d",
        "colab": {
          "base_uri": "https://localhost:8080/",
          "height": 318
        }
      },
      "source": [
        "df.head(2)"
      ],
      "execution_count": 0,
      "outputs": [
        {
          "output_type": "execute_result",
          "data": {
            "text/html": [
              "<div>\n",
              "<style scoped>\n",
              "    .dataframe tbody tr th:only-of-type {\n",
              "        vertical-align: middle;\n",
              "    }\n",
              "\n",
              "    .dataframe tbody tr th {\n",
              "        vertical-align: top;\n",
              "    }\n",
              "\n",
              "    .dataframe thead th {\n",
              "        text-align: right;\n",
              "    }\n",
              "</style>\n",
              "<table border=\"1\" class=\"dataframe\">\n",
              "  <thead>\n",
              "    <tr style=\"text-align: right;\">\n",
              "      <th></th>\n",
              "      <th>Id</th>\n",
              "      <th>Titre</th>\n",
              "      <th>Type</th>\n",
              "      <th>Theme</th>\n",
              "      <th>Nom</th>\n",
              "      <th>Fonction</th>\n",
              "      <th>Date</th>\n",
              "      <th>Tags</th>\n",
              "      <th>Texte</th>\n",
              "      <th>PRENOM</th>\n",
              "      <th>sexe</th>\n",
              "    </tr>\n",
              "  </thead>\n",
              "  <tbody>\n",
              "    <tr>\n",
              "      <th>0</th>\n",
              "      <td>273623</td>\n",
              "      <td>Déclaration de M. Franck Riester, ministre de ...</td>\n",
              "      <td>déclaration</td>\n",
              "      <td>Société</td>\n",
              "      <td>Riester</td>\n",
              "      <td>-Ministre de la culture</td>\n",
              "      <td>2020-02-26T12:00:00Z</td>\n",
              "      <td>Culture - Médias,Média</td>\n",
              "      <td>Merci monsieur le président, cher Bruno Studer...</td>\n",
              "      <td>FRANCK</td>\n",
              "      <td>1.0</td>\n",
              "    </tr>\n",
              "    <tr>\n",
              "      <th>1</th>\n",
              "      <td>273677</td>\n",
              "      <td>Déclaration de Mme Amélie de Montchalin, secré...</td>\n",
              "      <td>déclaration</td>\n",
              "      <td>International</td>\n",
              "      <td>de Montchalin</td>\n",
              "      <td>-Secrétaire d'État aux affaires européennes</td>\n",
              "      <td>2020-02-26T12:00:00Z</td>\n",
              "      <td>Union européenne,Politique agricole commune</td>\n",
              "      <td>Merci Monsieur le Président,  Monsieur le Séna...</td>\n",
              "      <td>AMÉLIE</td>\n",
              "      <td>2.0</td>\n",
              "    </tr>\n",
              "  </tbody>\n",
              "</table>\n",
              "</div>"
            ],
            "text/plain": [
              "       Id                                              Titre  ...  PRENOM sexe\n",
              "0  273623  Déclaration de M. Franck Riester, ministre de ...  ...  FRANCK  1.0\n",
              "1  273677  Déclaration de Mme Amélie de Montchalin, secré...  ...  AMÉLIE  2.0\n",
              "\n",
              "[2 rows x 11 columns]"
            ]
          },
          "metadata": {
            "tags": []
          },
          "execution_count": 97
        }
      ]
    },
    {
      "cell_type": "code",
      "metadata": {
        "id": "Otl_DvZZKtQo",
        "colab_type": "code",
        "colab": {}
      },
      "source": [
        "df.Texte = df.Texte.astype(str)"
      ],
      "execution_count": 0,
      "outputs": []
    },
    {
      "cell_type": "code",
      "metadata": {
        "id": "3Dd2LnAAKuYj",
        "colab_type": "code",
        "outputId": "51bd507b-6dc6-4eb5-9e20-18235671d008",
        "colab": {
          "base_uri": "https://localhost:8080/",
          "height": 68
        }
      },
      "source": [
        "print('En moyenne, la longueur des textes est de {} caractères.'.format(round(df.Texte.apply(len).mean())))\n",
        "print('Le corpus contient {} discours et déclarations politiques.' .format(len(df)))\n",
        "print('Il y a {} hommes et {} femmes qui les prononcent.'.format(df.sexe.map(str).value_counts()[0],df.sexe.map(str).value_counts()[1]))"
      ],
      "execution_count": 0,
      "outputs": [
        {
          "output_type": "stream",
          "text": [
            "En moyenne, la longueur des textes est de 11912 caractères.\n",
            "Le corpus contient 36724 discours et déclarations politiques.\n",
            "Il y a 26486 hommes et 8886 femmes qui les prononcent.\n"
          ],
          "name": "stdout"
        }
      ]
    },
    {
      "cell_type": "markdown",
      "metadata": {
        "id": "Y9K8kk7bKzH7",
        "colab_type": "text"
      },
      "source": [
        "Nous sommes clairement dans le cadre d'un jeu de données non balancés. Par la suite nous prendrons un sous échantillon de ce dataframe complet pour réaliser nos modélisations. De ce fait, en appliquant une méthode de sous échantillonnage pour égaliser le nombre d'hommes et de femmes."
      ]
    },
    {
      "cell_type": "code",
      "metadata": {
        "id": "kDHahrzfKwTz",
        "colab_type": "code",
        "colab": {}
      },
      "source": [
        "seed = 42\n",
        "#Créeons d'ores et déjà le dataframe de train/test équilibré et créons aussi un dataframe de validation ayant les mêmes proportions pour observer si notre futur modèle fonctionne comme attendu.\n",
        "df_eq = pd.concat([df[df.sexe == 1].sample(2500,random_state=seed),df[df.sexe == 2].sample(2500,random_state=seed)])\n",
        "df_eq_id =df_eq.Id\n",
        "df_valid = pd.concat([df[(~df.Id.isin(df_eq_id.values)) & (df.sexe == 1)].sample(int(len(df[df.sexe == 1])/len(df)*5000)),df[(~df.Id.isin(df_eq_id.values)) & (df.sexe == 2)].sample(5000-int(len(df[df.sexe == 1])/len(df)*5000))])"
      ],
      "execution_count": 0,
      "outputs": []
    },
    {
      "cell_type": "code",
      "metadata": {
        "id": "j8ZqxDwrK4lW",
        "colab_type": "code",
        "colab": {}
      },
      "source": [
        "print(df_eq.shape,df_eq.sexe.value_counts())\n",
        "print(df_valid.shape,df_valid.sexe.value_counts())"
      ],
      "execution_count": 0,
      "outputs": []
    },
    {
      "cell_type": "markdown",
      "metadata": {
        "id": "vI5nEAVkK6u6",
        "colab_type": "text"
      },
      "source": [
        "### Statistiques descriptives\n",
        "\n",
        "Désormais, nous allons réaliser des statistiques descriptives et faire quelques visualisation sur nos données. Cette partie est réalisé sous pandas sur l'ensemble de toute la base.\n",
        "\n",
        "Dans un premier temps, on remarque qu'il y a 3/4 des discours qui sont énoncés par des hommes et seuelement 25% par des femmes, ce qui justifie notre sous échantillonnage plus tard."
      ]
    },
    {
      "cell_type": "code",
      "metadata": {
        "id": "K7FJ12ypK6L8",
        "colab_type": "code",
        "outputId": "bc303ae6-10f6-4ccf-d544-57718ea4ecb7",
        "colab": {
          "base_uri": "https://localhost:8080/",
          "height": 313
        }
      },
      "source": [
        "labels = ['Homme','Femme']\n",
        "#colors = ['#ffcc99','#ff9999']\n",
        "sizes = [ len(df[df.sexe ==1]),len(df[df.sexe ==2])]\n",
        "fig, ax1 = plt.subplots()\n",
        "plt.pie(sizes, labels=labels, autopct='%1.1f%%', startangle=90, pctdistance=0.85)\n",
        "centre_circle = plt.Circle((0,0),0.70,fc='white')\n",
        "fig = plt.gcf()\n",
        "fig.gca().add_artist(centre_circle)\n",
        "ax1.axis('equal')  \n",
        "plt.tight_layout()\n",
        "plt.title(\"Proportion de discours par sexe\")\n",
        "plt.show()"
      ],
      "execution_count": 0,
      "outputs": [
        {
          "output_type": "display_data",
          "data": {
            "image/png": "[encoded data removed]",
            "text/plain": [
              "<Figure size 432x288 with 1 Axes>"
            ]
          },
          "metadata": {
            "tags": []
          }
        }
      ]
    },
    {
      "cell_type": "code",
      "metadata": {
        "id": "fRk7akLkK6an",
        "colab_type": "code",
        "outputId": "9eef1d24-723d-46a3-fc50-66a5c31d4ce0",
        "colab": {
          "base_uri": "https://localhost:8080/",
          "height": 419
        }
      },
      "source": [
        "df['Annee']= df.Date.map(str).apply(lambda x:x[:4])\n",
        "lst=[]\n",
        "for an in df.Annee.unique():\n",
        "    for s in df.sexe.unique():\n",
        "        if s == 1:\n",
        "            sexe= 'Homme'\n",
        "        else:\n",
        "            sexe='Femme'\n",
        "        lst+=[(an,len(df[(df.Annee == an) & (df.sexe == s)]),sexe)]\n",
        "data = pd.DataFrame(lst,columns=['Annee','Nb','Sexe'])\n",
        "data=data[data['Annee']>='1980']\n",
        "plt.figure(figsize=(10,6))\n",
        "sns.barplot(data = data,\n",
        "            x='Annee',\n",
        "            y='Nb',\n",
        "           hue='Sexe')\n",
        "plt.xticks(rotation = 45)\n",
        "plt.title(\"Evolution de la répartition des discours de 1980 au début de l'année 2020\")\n",
        "plt.show()"
      ],
      "execution_count": 0,
      "outputs": [
        {
          "output_type": "display_data",
          "data": {
            "image/png": "[encoded data removed]",
            "text/plain": [
              "<Figure size 720x432 with 1 Axes>"
            ]
          },
          "metadata": {
            "tags": [],
            "needs_background": "light"
          }
        }
      ]
    },
    {
      "cell_type": "markdown",
      "metadata": {
        "id": "mtvfU2J_LAnF",
        "colab_type": "text"
      },
      "source": [
        "On remarque que le nombre de prises de paroles féminines a augmenté au cours du temps mais qu'il reste dérisoire par apport au nombre de prise de paroles d'homme."
      ]
    },
    {
      "cell_type": "code",
      "metadata": {
        "id": "oQKtMF-PLB1k",
        "colab_type": "code",
        "outputId": "58c99489-8b80-41e1-a247-cb3b352d4ea1",
        "colab": {
          "base_uri": "https://localhost:8080/",
          "height": 390
        }
      },
      "source": [
        "df.Tags.fillna('',inplace=True)\n",
        "arr =df[df.sexe == 2].Tags.apply(lambda x: str(x).split(',')).array\n",
        "arr = reduce(add,arr)\n",
        "c = Counter(arr)\n",
        "d_f = pd.DataFrame(c, index=['occurrences']).transpose().reset_index()\n",
        "d_f.columns=['Themes', 'occurences']\n",
        "d_f.occurences = d_f.occurences.apply(lambda x:(x/d_f.occurences.sum())*100)\n",
        "d_f['sexe'] = 'Femme'\n",
        "arr =df[df.sexe == 1].Tags.apply(lambda x: str(x).split(',')).array\n",
        "arr = reduce(add,arr)\n",
        "c = Counter(arr)\n",
        "d_m = pd.DataFrame(c, index=['occurrences']).transpose().reset_index()\n",
        "d_m.columns=['Themes', 'occurences']\n",
        "d_m.occurences = d_m.occurences.apply(lambda x:(x/d_m.occurences.sum())*100)\n",
        "d_m['sexe'] = 'Homme'\n",
        "d = pd.concat([d_f,d_m])\n",
        "plt.figure(figsize=(13,13))\n",
        "plt.subplot(221)\n",
        "sns.barplot(data = d[(d.occurences >= 0.5) & (d.Themes.apply(len) >0) & (d.sexe == 'Homme')].sort_values('occurences',ascending=False).head(15),\n",
        "            y='Themes',\n",
        "            x='occurences',\n",
        "           color='pink')\n",
        "plt.title(\"Tags pour les hommes\")\n",
        "plt.subplot(222)\n",
        "sns.barplot(data = d[(d.occurences >= 0.6) & (d.Themes.apply(len) >0) & (d.sexe == 'Femme')].sort_values('occurences',ascending=False).head(15),\n",
        "            y='Themes',\n",
        "            x='occurences',\n",
        "           color = 'orange')\n",
        "plt.title(\"Tags pour les femmes\")\n",
        "plt.subplots_adjust(wspace = 1.5)"
      ],
      "execution_count": 0,
      "outputs": [
        {
          "output_type": "display_data",
          "data": {
            "image/png": "[encoded data removed]",
            "text/plain": [
              "<Figure size 936x936 with 2 Axes>"
            ]
          },
          "metadata": {
            "tags": [],
            "needs_background": "light"
          }
        }
      ]
    },
    {
      "cell_type": "markdown",
      "metadata": {
        "id": "gYBVkp_wLEIx",
        "colab_type": "text"
      },
      "source": [
        "Visiblement, hommes et femmes ne parlent pas des sujets identiques. Par exemple, les femmes parlent plus de la société tandis que les hommes plus des relations internationales. Cela est sans doute lié aux différents ministères."
      ]
    },
    {
      "cell_type": "code",
      "metadata": {
        "id": "TvLSJSI0LFJm",
        "colab_type": "code",
        "outputId": "3d693279-e4cc-498d-aaa8-0510945bcba4",
        "colab": {
          "base_uri": "https://localhost:8080/",
          "height": 404
        }
      },
      "source": [
        "df.Theme.fillna('',inplace=True)\n",
        "arr =df[df.sexe == 1].Theme.apply(lambda x: str(x).split(',')).array\n",
        "arr = reduce(add,arr)\n",
        "c = Counter(arr)\n",
        "d_m = pd.DataFrame(c, index=['occurrences']).transpose().reset_index()\n",
        "d_m.columns=['Themes', 'occurences']\n",
        "d_m.occurences = d_m.occurences.apply(lambda x:(x/d_m.occurences.sum())*100)\n",
        "d_m['sexe'] = 'Homme'\n",
        "arr =df[df.sexe == 2].Theme.apply(lambda x: str(x).split(',')).array\n",
        "arr = reduce(add,arr)\n",
        "c = Counter(arr)\n",
        "d_f = pd.DataFrame(c, index=['occurrences']).transpose().reset_index()\n",
        "d_f.columns=['Themes', 'occurences']\n",
        "d_f.occurences = d_f.occurences.apply(lambda x:(x/d_f.occurences.sum())*100)\n",
        "d_f['sexe'] = 'Femme'\n",
        "d = pd.concat([d_m,d_f])\n",
        "plt.figure(figsize=(10,6))\n",
        "sns.barplot(data = d[d.Themes != ''],hue = 'sexe',x='Themes',y='occurences')\n",
        "plt.title('Répartition des thèmes des élocutions en fonction du sexe')\n",
        "plt.xticks(rotation=0)\n",
        "plt.show()"
      ],
      "execution_count": 0,
      "outputs": [
        {
          "output_type": "display_data",
          "data": {
            "image/png": "[encoded data removed]",
            "text/plain": [
              "<Figure size 720x432 with 1 Axes>"
            ]
          },
          "metadata": {
            "tags": [],
            "needs_background": "light"
          }
        }
      ]
    },
    {
      "cell_type": "markdown",
      "metadata": {
        "id": "wH8uVXE6LIhG",
        "colab_type": "text"
      },
      "source": [
        "### Passons maintenant au feature engeenering sur les textes de notre corpus\n",
        "\n",
        "Pour se faire, nous allons dans un premier temps prendre notre dataframe equlibré."
      ]
    },
    {
      "cell_type": "code",
      "metadata": {
        "id": "5saXy4KNMtye",
        "colab_type": "code",
        "colab": {}
      },
      "source": [
        "df_eq = pd.read_csv('df_eq.csv')\n",
        "df_eq = df_eq[df_eq.columns[1:]]\n",
        "df_eq.fillna('',inplace=True)"
      ],
      "execution_count": 0,
      "outputs": []
    },
    {
      "cell_type": "code",
      "metadata": {
        "id": "souNTqjlLH3l",
        "colab_type": "code",
        "colab": {}
      },
      "source": [
        "sparkDfEq = spark.createDataFrame(df_eq)"
      ],
      "execution_count": 0,
      "outputs": []
    },
    {
      "cell_type": "code",
      "metadata": {
        "id": "IdxP4bkSSFUn",
        "colab_type": "code",
        "outputId": "d9e7254a-34e1-455a-e86c-821d6f10991d",
        "colab": {
          "base_uri": "https://localhost:8080/",
          "height": 204
        }
      },
      "source": [
        "sparkDfEq.show(5)"
      ],
      "execution_count": 0,
      "outputs": [
        {
          "output_type": "stream",
          "text": [
            "+------+--------------------+-----------+--------------------+-------------------+--------+--------------------+--------------------+--------------------+--------+----+\n",
            "|    Id|               Titre|       Type|               Theme|                Nom|Fonction|                Date|                Tags|               Texte|  PRENOM|sexe|\n",
            "+------+--------------------+-----------+--------------------+-------------------+--------+--------------------+--------------------+--------------------+--------+----+\n",
            "|149052|Déclaration de M....|déclaration|             Société|Donnedieu de Vabres|        |2005-08-30T12:00:00Z|Culture - Médias,Art|Madame la Ministr...|  RENAUD| 1.0|\n",
            "|135806|Déclaration de M....|déclaration|Economie,Institut...|            Lambert|        |2002-10-01T12:00:00Z|Finances publique...|Monsieur le prési...|   ALAIN| 1.0|\n",
            "|199346|Déclaration de M....|déclaration|            Economie|             Macron|        |2016-05-04T12:00:00Z|Energie - Transpo...|Monsieur le Déput...|EMMANUEL| 1.0|\n",
            "|176560|Déclaration de M....|déclaration|             Société|          Bartolone|        |1999-03-30T12:00:00Z|Ville - Territoir...|UNE RESPONSABILIT...|  CLAUDE| 1.0|\n",
            "|181212|Déclaration de M....|déclaration|             Société|         Mitterrand|        |2011-02-02T12:00:00Z|Education - Reche...|« Nous ne devons ...|FRÉDÉRIC| 1.0|\n",
            "+------+--------------------+-----------+--------------------+-------------------+--------+--------------------+--------------------+--------------------+--------+----+\n",
            "only showing top 5 rows\n",
            "\n"
          ],
          "name": "stdout"
        }
      ]
    },
    {
      "cell_type": "markdown",
      "metadata": {
        "id": "k95MSVNhLL8r",
        "colab_type": "text"
      },
      "source": [
        "Créons tout d'abord un pipeline permetttant de faire du pré-processing sur le texte. \n",
        "Nous allons utiliser le module sparknlp pour gérer l'ensemble du preprocessing (il est impossible visiblement de configurer manuellement sur le cluster de l'ensae nltk et spacy, de plus sparknlp semble avoir de meilleur résultat que ces deux packages).\n",
        "\n",
        "Tout d'abord nous créons un pipeline spark nlp pour obtenir diverses colonnes."
      ]
    },
    {
      "cell_type": "code",
      "metadata": {
        "id": "1ToSrEYtLPw0",
        "colab_type": "code",
        "outputId": "5ed1b428-48fc-47d1-ab0c-921066438e69",
        "colab": {
          "base_uri": "https://localhost:8080/",
          "height": 68
        }
      },
      "source": [
        "pct = [el for el in '...'+'\\x92'+'«'+'»'+'``'+\"''\"+'``'+'('+ ')']\n",
        "document_assembler = DocumentAssembler() \\\n",
        "    .setInputCol(\"Texte\")\n",
        "sentence_detector = SentenceDetector() \\\n",
        "    .setInputCols(\"document\") \\\n",
        "    .setOutputCol(\"phrase\")\n",
        "tokenizer = Tokenizer() \\\n",
        "    .setInputCols([\"phrase\"]) \\\n",
        "    .setOutputCol(\"Token\") \\\n",
        "    .setSplitChars(['-']) \\\n",
        "    .setContextChars(pct)\n",
        "stop_words_cleaner = StopWordsCleaner() \\\n",
        "        .setInputCols([\"Token\"]) \\\n",
        "        .setOutputCol(\"CleanToken\") \\\n",
        "        .setCaseSensitive(False) \\\n",
        "        .setStopWords(list(fr_stop))\n",
        "pos_tagger = PerceptronModel.pretrained(name=\"pos_ud_gsd\",lang=\"fr\") \\\n",
        "    .setInputCols([\"Token\", \"phrase\"]) \\\n",
        "    .setOutputCol(\"pos\")\n",
        "Pron = Chunker() \\\n",
        "    .setInputCols([\"document\", \"pos\"]) \\\n",
        "    .setOutputCol(\"Pron\") \\\n",
        "    .setRegexParsers([\"<PRON>\"])\n",
        "Nom = Chunker() \\\n",
        "    .setInputCols([\"document\", \"pos\"]) \\\n",
        "    .setOutputCol(\"Nom\") \\\n",
        "    .setRegexParsers([\"<NOUN>\"])\n",
        "Det = Chunker() \\\n",
        "    .setInputCols([\"document\", \"pos\"]) \\\n",
        "    .setOutputCol(\"Det\") \\\n",
        "    .setRegexParsers([\"<DET>\"])\n",
        "Punct = Chunker() \\\n",
        "    .setInputCols([\"document\", \"pos\"]) \\\n",
        "    .setOutputCol(\"Punct\") \\\n",
        "    .setRegexParsers([\"<PUNCT>\"])\n",
        "Adj = Chunker() \\\n",
        "    .setInputCols([\"document\", \"pos\"]) \\\n",
        "    .setOutputCol(\"ADJ\") \\\n",
        "    .setRegexParsers([\"<ADJ>\"])\n",
        "Adp = Chunker() \\\n",
        "    .setInputCols([\"document\", \"pos\"]) \\\n",
        "    .setOutputCol(\"Adp\") \\\n",
        "    .setRegexParsers([\"<ADP>\"])\n",
        "Verb = Chunker() \\\n",
        "    .setInputCols([\"document\", \"pos\"]) \\\n",
        "    .setOutputCol(\"Verb\") \\\n",
        "    .setRegexParsers([\"<VERB>\"])\n",
        "Cconj = Chunker() \\\n",
        "    .setInputCols([\"document\", \"pos\"]) \\\n",
        "    .setOutputCol(\"Cconj\") \\\n",
        "    .setRegexParsers([\"<CCONJ>\"])\n",
        "Num = Chunker() \\\n",
        "    .setInputCols([\"document\", \"pos\"]) \\\n",
        "    .setOutputCol(\"Num\") \\\n",
        "    .setRegexParsers([\"<NUM>\"])\n",
        "Propn = Chunker() \\\n",
        "    .setInputCols([\"document\", \"pos\"]) \\\n",
        "    .setOutputCol(\"Propn\") \\\n",
        "    .setRegexParsers([\"<PROPN>\"])\n",
        "Adv = Chunker() \\\n",
        "    .setInputCols([\"document\", \"pos\"]) \\\n",
        "    .setOutputCol(\"Adv\") \\\n",
        "    .setRegexParsers([\"<ADV>\"])\n",
        "Sconj = Chunker() \\\n",
        "    .setInputCols([\"document\", \"pos\"]) \\\n",
        "    .setOutputCol(\"Sconj\") \\\n",
        "    .setRegexParsers([\"<SCONJ>\"])\n",
        "Aux = Chunker() \\\n",
        "    .setInputCols([\"document\", \"pos\"]) \\\n",
        "    .setOutputCol(\"Aux\") \\\n",
        "    .setRegexParsers([\"<AUX>\"])\n",
        "Intj = Chunker() \\\n",
        "    .setInputCols([\"document\", \"pos\"]) \\\n",
        "    .setOutputCol(\"Intj\") \\\n",
        "    .setRegexParsers([\"<INTJ>\"])"
      ],
      "execution_count": 0,
      "outputs": [
        {
          "output_type": "stream",
          "text": [
            "pos_ud_gsd download started this may take some time.\n",
            "Approximate size to download 3.4 MB\n",
            "[OK!]\n"
          ],
          "name": "stdout"
        }
      ]
    },
    {
      "cell_type": "code",
      "metadata": {
        "id": "yRaNYi-iLVCG",
        "colab_type": "code",
        "colab": {}
      },
      "source": [
        "nlpPipeline = Pipeline(stages=[\n",
        "    document_assembler,\n",
        "    sentence_detector, \n",
        "    tokenizer,\n",
        "    stop_words_cleaner,\n",
        "    pos_tagger,\n",
        "    Pron,\n",
        "    Nom,\n",
        "    Det,\n",
        "    Punct,\n",
        "    Verb,\n",
        "    Adj,\n",
        "    Adp,\n",
        "    Cconj,\n",
        "    Num,\n",
        "    Propn,\n",
        "    Adv,\n",
        "    Sconj,\n",
        "    Aux,\n",
        "    Intj\n",
        "])"
      ],
      "execution_count": 0,
      "outputs": []
    },
    {
      "cell_type": "code",
      "metadata": {
        "id": "0HgwhvLzLWHw",
        "colab_type": "code",
        "colab": {}
      },
      "source": [
        "nlpPipelineDF = nlpPipeline.fit(sparkDfEq).transform(sparkDfEq)"
      ],
      "execution_count": 0,
      "outputs": []
    },
    {
      "cell_type": "code",
      "metadata": {
        "id": "zWThpBzUSzdi",
        "colab_type": "code",
        "colab": {}
      },
      "source": [
        "cols = ['NbToken','NbVerb','NbPron','NbNom','NbDet','NbPunct','NbAdj','NbAdp','NbCconj','NbNum','NbPropn','NbAdv','NbSconj','NbAux','NbIntj']\n",
        "var = [\"Token\",'Verb','Pron','Nom',\"Det\",\"Punct\",\"Adj\",\"Adp\",\"Cconj\",\"Num\",\"Propn\",\"Adv\",\"Sconj\",\"Aux\",\"Intj\"]\n",
        "for v,c in zip(var,cols):\n",
        "  nlpPipelineDF = nlpPipelineDF.withColumn(c,size(nlpPipelineDF[v]))"
      ],
      "execution_count": 0,
      "outputs": []
    },
    {
      "cell_type": "code",
      "metadata": {
        "id": "FjAnMOh_NwEY",
        "colab_type": "code",
        "outputId": "c690eb4c-4df2-4b51-c27b-1ee82ee7b059",
        "colab": {
          "base_uri": "https://localhost:8080/",
          "height": 224
        }
      },
      "source": [
        "nlpPipelineDF.show(5)"
      ],
      "execution_count": 0,
      "outputs": [
        {
          "output_type": "stream",
          "text": [
            "+------+--------------------+-----------+--------------------+--------------------+--------+--------------------+--------------------+--------------------+--------+----+--------------------+--------------------+--------------------+--------------------+--------------------+--------------------+--------------------+--------------------+--------------------+--------------------+--------------------+--------------------+--------------------+--------------------+--------------------+--------------------+--------------------+----+-------+------+------+-----+-----+-------+-----+-----+-------+-----+-------+-----+-------+-----+------+\n",
            "|    Id|               Titre|       Type|               Theme|                 Nom|Fonction|                Date|                Tags|               Texte|  PRENOM|sexe|            document|              phrase|               Token|          CleanToken|                 pos|                Pron|                 Det|               Punct|                Verb|                 ADJ|                 Adp|               Cconj|                 Num|               Propn|                 Adv|               Sconj|                 Aux|Intj|NbToken|NbVerb|NbPron|NbNom|NbDet|NbPunct|NbAdj|NbAdp|NbCconj|NbNum|NbPropn|NbAdv|NbSconj|NbAux|NbIntj|\n",
            "+------+--------------------+-----------+--------------------+--------------------+--------+--------------------+--------------------+--------------------+--------+----+--------------------+--------------------+--------------------+--------------------+--------------------+--------------------+--------------------+--------------------+--------------------+--------------------+--------------------+--------------------+--------------------+--------------------+--------------------+--------------------+--------------------+----+-------+------+------+-----+-----+-------+-----+-----+-------+-----+-------+-----+-------+-----+------+\n",
            "|149052|Déclaration de M....|déclaration|             Société|[[chunk, 0, 5, Ma...|        |2005-08-30T12:00:00Z|Culture - Médias,Art|Madame la Ministr...|  RENAUD| 1.0|[[document, 0, 86...|[[document, 0, 77...|[[token, 0, 5, Ma...|[[token, 0, 5, Ma...|[[pos, 0, 5, NOUN...|[[chunk, 191, 192...|[[chunk, 7, 8, la...|[[chunk, 773, 773...|[[chunk, 220, 229...|[[chunk, 20, 24, ...|[[chunk, 212, 213...|[[chunk, 103, 104...|[[chunk, 3372, 33...|[[chunk, 10, 18, ...|[[chunk, 199, 202...|[[chunk, 382, 384...|[[chunk, 194, 197...|  []|   1412|   162|   103|  328|  189|     28|   96|  248|     59|   20|     70|   63|     14|   32|     0|\n",
            "|135806|Déclaration de M....|déclaration|Economie,Institut...|[[chunk, 12, 21, ...|        |2002-10-01T12:00:00Z|Finances publique...|Monsieur le prési...|   ALAIN| 1.0|[[document, 0, 53...|[[document, 0, 14...|[[token, 0, 7, Mo...|[[token, 0, 7, Mo...|[[pos, 0, 7, PROP...|[[chunk, 150, 151...|[[chunk, 9, 10, l...|[[chunk, 148, 148...|[[chunk, 31, 40, ...|[[chunk, 87, 95, ...|[[chunk, 58, 58, ...|[[chunk, 105, 106...|[[chunk, 100, 103...|[[chunk, 0, 7, Mo...|[[chunk, 162, 170...|[[chunk, 1412, 14...|[[chunk, 139, 141...|  []|    902|   107|    56|  247|  125|     38|   49|  189|     24|    4|      5|   27|      6|   22|     0|\n",
            "|199346|Déclaration de M....|déclaration|            Economie|[[chunk, 34, 40, ...|        |2016-05-04T12:00:00Z|Energie - Transpo...|Monsieur le Déput...|EMMANUEL| 1.0|[[document, 0, 19...|[[document, 0, 28...|[[token, 0, 7, Mo...|[[token, 0, 7, Mo...|[[pos, 0, 7, PROP...|[[chunk, 20, 21, ...|[[chunk, 9, 10, l...|[[chunk, 71, 71, ...|[[chunk, 23, 27, ...|[[chunk, 62, 69, ...|[[chunk, 42, 42, ...|[[chunk, 256, 257...|                  []|[[chunk, 0, 7, Mo...|[[chunk, 181, 182...|[[chunk, 1698, 17...|[[chunk, 110, 110...|  []|    309|    44|    25|   62|   41|     10|   28|   47|      8|    0|     14|   18|      1|   11|     0|\n",
            "|176560|Déclaration de M....|déclaration|             Société|[[chunk, 4, 17, R...|        |1999-03-30T12:00:00Z|Ville - Territoir...|UNE RESPONSABILIT...|  CLAUDE| 1.0|[[document, 0, 27...|[[document, 0, 16...|[[token, 0, 2, UN...|[[token, 4, 17, R...|[[pos, 0, 2, DET,...|[[chunk, 141, 144...|[[chunk, 0, 2, UN...|[[chunk, 165, 165...|[[chunk, 90, 99, ...|[[chunk, 19, 29, ...|[[chunk, 146, 147...|[[chunk, 56, 57, ...|[[chunk, 1326, 13...|[[chunk, 1005, 10...|[[chunk, 71, 74, ...|[[chunk, 438, 440...|[[chunk, 86, 88, ...|  []|    429|    47|    22|  103|   56|     17|   58|   73|     14|    5|      3|   22|      3|    6|     0|\n",
            "|181212|Déclaration de M....|déclaration|             Société|[[chunk, 47, 51, ...|        |2011-02-02T12:00:00Z|Education - Reche...|« Nous ne devons ...|FRÉDÉRIC| 1.0|[[document, 0, 82...|[[document, 0, 16...|[[token, 0, 0, «,...|[[token, 0, 0, «,...|[[pos, 0, 0, PUNC...|[[chunk, 2, 5, No...|[[chunk, 44, 45, ...|[[chunk, 0, 0, «,...|[[chunk, 10, 15, ...|[[chunk, 39, 42, ...|[[chunk, 28, 29, ...|[[chunk, 135, 136...|[[chunk, 557, 561...|[[chunk, 460, 466...|[[chunk, 7, 8, ne...|[[chunk, 620, 622...|[[chunk, 359, 361...|  []|   1383|   130|    71|  323|  186|     50|  103|  261|     36|    9|    104|   69|     13|   27|     0|\n",
            "+------+--------------------+-----------+--------------------+--------------------+--------+--------------------+--------------------+--------------------+--------+----+--------------------+--------------------+--------------------+--------------------+--------------------+--------------------+--------------------+--------------------+--------------------+--------------------+--------------------+--------------------+--------------------+--------------------+--------------------+--------------------+--------------------+----+-------+------+------+-----+-----+-------+-----+-----+-------+-----+-------+-----+-------+-----+------+\n",
            "only showing top 5 rows\n",
            "\n"
          ],
          "name": "stdout"
        }
      ]
    },
    {
      "cell_type": "markdown",
      "metadata": {
        "id": "DYjH-1J6RC1e",
        "colab_type": "text"
      },
      "source": [
        "Très honnetement, le but était d'ici de construire des modèles à la fois à l'aide de variables tirés du texte comme un nombre de pronom personnel, de mot unique ou un score appellé la f measure testé par d'autres personnes dans le contraire de classification de texte mais il semblerait que les fonctions que nous tentons d'appliquer à l'aide de udf ne tournent pas ou alors beaucoup plus longtemps que les mêmes fonctions sur un pandas. De plus, il nous est à chaque fois impossible d'arriver à obtenir un toPandas() ce qui nous empêche de faire la pacerelle entre les deux (et dans un environnement de données massives ce n'est pas recommandé). C'est pourquoi, nous allons uniquement nous concentrer sur des modèles crée à l'aide de pipeline de spark.ml avec des word embeddings.\n"
      ]
    },
    {
      "cell_type": "markdown",
      "metadata": {
        "id": "5d3r0QdHd4G6",
        "colab_type": "text"
      },
      "source": [
        "## Construction d'une baseline\n",
        "\n",
        "Nous allons, à l'aide des nos différents word embeddings, tenter de classifier correctement le genre.\n",
        "\n",
        "Pour se faire nous allons split notre dataset en 80% de test et 20% de train.\n",
        "\n",
        "Par la suite nous allons tuner nos différents résultats à l'aide d'une gridsearchCV.\n",
        "\n"
      ]
    },
    {
      "cell_type": "code",
      "metadata": {
        "id": "1L4uN3s4Sr90",
        "colab_type": "code",
        "colab": {}
      },
      "source": [
        "import pandas as pd\n",
        "\n",
        "df_eq = pd.read_csv('df_eq.csv')\n",
        "df_eq = df_eq[df_eq.columns[1:]]\n",
        "df_eq.fillna('',inplace=True)\n",
        "def encode(x):\n",
        "  if x == 1:\n",
        "    return 0\n",
        "  else:\n",
        "    return 1\n",
        "df_eq.sexe = df_eq.sexe.apply(encode)"
      ],
      "execution_count": 0,
      "outputs": []
    },
    {
      "cell_type": "code",
      "metadata": {
        "id": "PetcfXs_T_fV",
        "colab_type": "code",
        "colab": {}
      },
      "source": [
        "spark = SparkSession \\\n",
        "    .builder \\\n",
        "    .appName(\"DiscoursFrancais\") \\\n",
        "    .getOrCreate() "
      ],
      "execution_count": 0,
      "outputs": []
    },
    {
      "cell_type": "code",
      "metadata": {
        "id": "FX83TL-XUV-i",
        "colab_type": "code",
        "colab": {}
      },
      "source": [
        "df = spark.createDataFrame(df_eq)"
      ],
      "execution_count": 0,
      "outputs": []
    },
    {
      "cell_type": "code",
      "metadata": {
        "id": "NKiEsl9IUe-q",
        "colab_type": "code",
        "outputId": "a96e7d09-7ebe-4a9e-a1ff-590fc2d6f69e",
        "colab": {
          "base_uri": "https://localhost:8080/",
          "height": 153
        }
      },
      "source": [
        "df = df.select(*['sexe','Texte'])\n",
        "df.show(2)"
      ],
      "execution_count": 0,
      "outputs": [
        {
          "output_type": "stream",
          "text": [
            "+----+--------------------+\n",
            "|sexe|               Texte|\n",
            "+----+--------------------+\n",
            "|   0|Madame la Ministr...|\n",
            "|   0|Monsieur le prési...|\n",
            "+----+--------------------+\n",
            "only showing top 2 rows\n",
            "\n"
          ],
          "name": "stdout"
        }
      ]
    },
    {
      "cell_type": "markdown",
      "metadata": {
        "id": "khvud6L7Upys",
        "colab_type": "text"
      },
      "source": [
        "Creation d'un pipeline"
      ]
    },
    {
      "cell_type": "code",
      "metadata": {
        "id": "0J8mvoaTUwRN",
        "colab_type": "code",
        "colab": {}
      },
      "source": [
        "from pyspark.ml.feature import Tokenizer,StopWordsRemover,Word2Vec,CountVectorizer, IDF,StringIndexer\n",
        "tokenizer = Tokenizer(inputCol='Texte',outputCol=\"token\")\n",
        "stopword = StopWordsRemover(inputCol=\"token\", outputCol=\"clean_token\").setStopWords(list(fr_stop))\n",
        "word2vec = Word2Vec(inputCol='clean_token',outputCol='embedding1',seed=42,vectorSize=100,minCount=8)\n",
        "countVec = CountVectorizer(inputCol='clean_token',outputCol='rawFeatureCountVec')#minDF=0.1,minTF=0.05,vocabSize=10000\n",
        "idf = IDF(inputCol=\"rawFeatureCountVec\", outputCol=\"embedding2\",minDocFreq=5)\n",
        "label_stringIdx = StringIndexer(inputCol = \"sexe\", outputCol = \"label\")"
      ],
      "execution_count": 0,
      "outputs": []
    },
    {
      "cell_type": "code",
      "metadata": {
        "id": "6Do6Ldo6UpdD",
        "colab_type": "code",
        "colab": {}
      },
      "source": [
        "pipeline1 = Pipeline(stages=[\n",
        "                             tokenizer,\n",
        "                             stopword,\n",
        "                             word2vec,\n",
        "                             countVec,\n",
        "                             idf,\n",
        "                             label_stringIdx\n",
        "])"
      ],
      "execution_count": 0,
      "outputs": []
    },
    {
      "cell_type": "code",
      "metadata": {
        "id": "TAhLyZBiZYZl",
        "colab_type": "code",
        "outputId": "b317ee0e-8ede-404a-e9df-3fe89e31e327",
        "colab": {
          "base_uri": "https://localhost:8080/",
          "height": 224
        }
      },
      "source": [
        "pipelineFit = pipeline1.fit(df)\n",
        "dataset = pipelineFit.transform(df)\n",
        "dataset.show(5)"
      ],
      "execution_count": 0,
      "outputs": [
        {
          "output_type": "stream",
          "text": [
            "+----+--------------------+--------------------+--------------------+--------------------+--------------------+--------------------+-----+\n",
            "|sexe|               Texte|               token|         clean_token|          embedding1|  rawFeatureCountVec|          embedding2|label|\n",
            "+----+--------------------+--------------------+--------------------+--------------------+--------------------+--------------------+-----+\n",
            "|   0|Madame la Ministr...|[madame, la, mini...|[madame, ministre...|[0.00533969741751...|(262144,[0,1,3,4,...|(262144,[0,1,3,4,...|  0.0|\n",
            "|   0|Monsieur le prési...|[monsieur, le, pr...|[monsieur, présid...|[0.00399028548548...|(262144,[0,1,3,4,...|(262144,[0,1,3,4,...|  0.0|\n",
            "|   0|Monsieur le Déput...|[monsieur, le, dé...|[monsieur, député...|[0.02515808166170...|(262144,[0,1,3,4,...|(262144,[0,1,3,4,...|  0.0|\n",
            "|   0|UNE RESPONSABILIT...|[une, responsabil...|[responsabilité, ...|[0.05184071906319...|(262144,[0,1,2,3,...|(262144,[0,1,2,3,...|  0.0|\n",
            "|   0|« Nous ne devons ...|[«, nous, ne, dev...|[«, devons, rougi...|[0.01746464834115...|(262144,[0,1,2,5,...|(262144,[0,1,2,5,...|  0.0|\n",
            "+----+--------------------+--------------------+--------------------+--------------------+--------------------+--------------------+-----+\n",
            "only showing top 5 rows\n",
            "\n"
          ],
          "name": "stdout"
        }
      ]
    },
    {
      "cell_type": "markdown",
      "metadata": {
        "id": "RoBuXIIWZp0a",
        "colab_type": "text"
      },
      "source": [
        "Désormais faisons notre split."
      ]
    },
    {
      "cell_type": "code",
      "metadata": {
        "id": "FU-ynvVKZtEj",
        "colab_type": "code",
        "colab": {}
      },
      "source": [
        "train,test = dataset.randomSplit([0.8, 0.2], seed = 42)"
      ],
      "execution_count": 0,
      "outputs": []
    },
    {
      "cell_type": "markdown",
      "metadata": {
        "id": "2WuyZRWv0y7b",
        "colab_type": "text"
      },
      "source": [
        "Ici se trouve deux fonctions permettant de comparer les résultats de nos différentes méthodes."
      ]
    },
    {
      "cell_type": "code",
      "metadata": {
        "id": "USjQ9Gs_eebX",
        "colab_type": "code",
        "outputId": "9c822ff8-072c-4e27-f950-c9e970619751",
        "colab": {
          "base_uri": "https://localhost:8080/",
          "height": 71
        }
      },
      "source": [
        "from sklearn.metrics import (\n",
        "    recall_score,\n",
        "    accuracy_score,\n",
        "    precision_score,\n",
        "    roc_auc_score,\n",
        "    f1_score,\n",
        "    classification_report,\n",
        "    confusion_matrix,\n",
        "    roc_curve,\n",
        "    scorer)\n",
        "import numpy as np\n",
        "\n",
        "def print_resultats(y_true,y_pred,mode='train'):\n",
        "  \n",
        "  print(f'================{mode.upper()}=================')\n",
        "  print(classification_report(y_true, y_pred))\n",
        "  print (\"Accuracy : \",accuracy_score(y_true,y_pred))\n",
        "  cm = confusion_matrix(y_true,y_pred)\n",
        "  ROC = roc_auc_score(y_true,y_pred) \n",
        "  print (\"AUC : \",ROC)\n",
        "  plt.figure(figsize=(12,10))\n",
        "  sns.heatmap(cm/np.sum(cm), annot=True, \n",
        "          fmt='.2%', cmap='Blues').set_title('Matrice de confusion')\n",
        "  plt.show()\n",
        "\n",
        "def model_report(y_true,y_pred) :\n",
        "\n",
        "  accuracy     = accuracy_score(y_true,y_pred)\n",
        "  recallscore  = recall_score(y_true,y_pred)\n",
        "  precision    = precision_score(y_true,y_pred)\n",
        "  roc_auc      = roc_auc_score(y_true,y_pred)\n",
        "  f1score      = f1_score(y_true,y_pred)     \n",
        "  df = pd.DataFrame({ \"Accuracy_score\"  : [accuracy],\n",
        "                    \"Recall_score\"    : [recallscore],\n",
        "                    \"Precision\"       : [precision],\n",
        "                    \"f1_score\"        : [f1score],\n",
        "                    \"Area_under_curve\": [roc_auc],\n",
        "                    })\n",
        "  return df"
      ],
      "execution_count": 0,
      "outputs": [
        {
          "output_type": "stream",
          "text": [
            "/usr/local/lib/python3.6/dist-packages/sklearn/utils/deprecation.py:144: FutureWarning: The sklearn.metrics.scorer module is  deprecated in version 0.22 and will be removed in version 0.24. The corresponding classes / functions should instead be imported from sklearn.metrics. Anything that cannot be imported from sklearn.metrics is now part of the private API.\n",
            "  warnings.warn(message, FutureWarning)\n"
          ],
          "name": "stderr"
        }
      ]
    },
    {
      "cell_type": "markdown",
      "metadata": {
        "id": "gKmKAO8F08DS",
        "colab_type": "text"
      },
      "source": [
        "Le premier embedding est un Word2Vec non tuné."
      ]
    },
    {
      "cell_type": "code",
      "metadata": {
        "id": "JnFkGXa179w6",
        "colab_type": "code",
        "colab": {}
      },
      "source": [
        "import sklearn \n",
        "import datetime\n",
        "from pyspark.ml.classification import LogisticRegression,NaiveBayes,DecisionTreeClassifier, RandomForestClassifier,LinearSVC\n"
      ],
      "execution_count": 0,
      "outputs": []
    },
    {
      "cell_type": "code",
      "metadata": {
        "id": "LO4ZbYshvCIl",
        "colab_type": "code",
        "outputId": "c419680a-de7d-4e7f-a985-87c6f7c87be9",
        "colab": {
          "base_uri": "https://localhost:8080/",
          "height": 470
        }
      },
      "source": [
        "\n",
        "train = train.select(*['embedding1','label'])\n",
        "test = test.select(*['embedding1','label'])\n",
        "modeldf = pd.DataFrame(columns = [ 'Accuracy_score', 'Recall_score', 'Precision', 'f1_score',\n",
        "       'Area_under_curve'])\n",
        "lr = LogisticRegression(featuresCol = 'embedding1', labelCol = 'label', maxIter=100,predictionCol='lrEmbedding1')\n",
        "dtc = DecisionTreeClassifier(featuresCol='embedding1',labelCol='label',predictionCol='dtcEmbedding1',seed=42)\n",
        "rfc = RandomForestClassifier(featuresCol='embedding1',labelCol='label',predictionCol='rfcEmbedding1',seed=42)\n",
        "preds = ['lrEmbedding1','dtcEmbedding1','rfcEmbedding1',]\n",
        "models = [lr,dtc,rfc]\n",
        "\n",
        "for model,pred in zip(models,preds):\n",
        "  print(model)\n",
        "  print(datetime.datetime.now())\n",
        "  Model = model.fit(train)\n",
        "  predictions_train = Model.transform(train)\n",
        "  predictions_test = Model.transform(test)\n",
        "  print(datetime.datetime.now())\n",
        "  y_true = predictions_train.select(['label']).collect()\n",
        "  y_true_test = predictions_test.select(['label']).collect()\n",
        "  print(datetime.datetime.now())\n",
        "  y_pred = predictions_train.select([pred]).collect()\n",
        "  y_pred_test=predictions_test.select([pred]).collect()\n",
        "  modeldf = pd.concat([modeldf,model_report(y_true,y_pred)])\n",
        "  modeldf = pd.concat([modeldf,model_report(y_true_test,y_pred_test)])\n",
        "\n",
        "modeldf['nom']=['RegLog_train','RegLog_test','DTC_train','DTC_test','RFC_train','RFC_test']\n",
        "modeldf.set_index(['nom'])\n"
      ],
      "execution_count": 0,
      "outputs": [
        {
          "output_type": "stream",
          "text": [
            "LogisticRegression_34e80d516e63\n",
            "2020-05-15 15:01:52.471557\n",
            "2020-05-15 15:04:03.398510\n",
            "2020-05-15 15:05:13.460793\n",
            "DecisionTreeClassifier_c4bc9ce5bc73\n",
            "2020-05-15 15:06:20.785399\n",
            "2020-05-15 15:08:22.260315\n",
            "2020-05-15 15:09:28.454295\n",
            "RandomForestClassifier_cb1bd6d55789\n",
            "2020-05-15 15:10:35.687956\n",
            "2020-05-15 15:12:50.926113\n",
            "2020-05-15 15:13:56.044322\n"
          ],
          "name": "stdout"
        },
        {
          "output_type": "execute_result",
          "data": {
            "text/html": [
              "<div>\n",
              "<style scoped>\n",
              "    .dataframe tbody tr th:only-of-type {\n",
              "        vertical-align: middle;\n",
              "    }\n",
              "\n",
              "    .dataframe tbody tr th {\n",
              "        vertical-align: top;\n",
              "    }\n",
              "\n",
              "    .dataframe thead th {\n",
              "        text-align: right;\n",
              "    }\n",
              "</style>\n",
              "<table border=\"1\" class=\"dataframe\">\n",
              "  <thead>\n",
              "    <tr style=\"text-align: right;\">\n",
              "      <th></th>\n",
              "      <th>Accuracy_score</th>\n",
              "      <th>Recall_score</th>\n",
              "      <th>Precision</th>\n",
              "      <th>f1_score</th>\n",
              "      <th>Area_under_curve</th>\n",
              "    </tr>\n",
              "    <tr>\n",
              "      <th>nom</th>\n",
              "      <th></th>\n",
              "      <th></th>\n",
              "      <th></th>\n",
              "      <th></th>\n",
              "      <th></th>\n",
              "    </tr>\n",
              "  </thead>\n",
              "  <tbody>\n",
              "    <tr>\n",
              "      <th>RegLog_train</th>\n",
              "      <td>0.711920</td>\n",
              "      <td>0.7245</td>\n",
              "      <td>0.708211</td>\n",
              "      <td>0.716263</td>\n",
              "      <td>0.711872</td>\n",
              "    </tr>\n",
              "    <tr>\n",
              "      <th>RegLog_test</th>\n",
              "      <td>0.704433</td>\n",
              "      <td>0.7080</td>\n",
              "      <td>0.696850</td>\n",
              "      <td>0.702381</td>\n",
              "      <td>0.704485</td>\n",
              "    </tr>\n",
              "    <tr>\n",
              "      <th>DTC_train</th>\n",
              "      <td>0.697114</td>\n",
              "      <td>0.7995</td>\n",
              "      <td>0.664865</td>\n",
              "      <td>0.725993</td>\n",
              "      <td>0.696727</td>\n",
              "    </tr>\n",
              "    <tr>\n",
              "      <th>DTC_test</th>\n",
              "      <td>0.633498</td>\n",
              "      <td>0.7180</td>\n",
              "      <td>0.608475</td>\n",
              "      <td>0.658716</td>\n",
              "      <td>0.634728</td>\n",
              "    </tr>\n",
              "    <tr>\n",
              "      <th>RFC_train</th>\n",
              "      <td>0.721455</td>\n",
              "      <td>0.7690</td>\n",
              "      <td>0.703568</td>\n",
              "      <td>0.734830</td>\n",
              "      <td>0.721276</td>\n",
              "    </tr>\n",
              "    <tr>\n",
              "      <th>RFC_test</th>\n",
              "      <td>0.673892</td>\n",
              "      <td>0.7220</td>\n",
              "      <td>0.652803</td>\n",
              "      <td>0.685660</td>\n",
              "      <td>0.674592</td>\n",
              "    </tr>\n",
              "  </tbody>\n",
              "</table>\n",
              "</div>"
            ],
            "text/plain": [
              "              Accuracy_score  Recall_score  ...  f1_score  Area_under_curve\n",
              "nom                                         ...                            \n",
              "RegLog_train        0.711920        0.7245  ...  0.716263          0.711872\n",
              "RegLog_test         0.704433        0.7080  ...  0.702381          0.704485\n",
              "DTC_train           0.697114        0.7995  ...  0.725993          0.696727\n",
              "DTC_test            0.633498        0.7180  ...  0.658716          0.634728\n",
              "RFC_train           0.721455        0.7690  ...  0.734830          0.721276\n",
              "RFC_test            0.673892        0.7220  ...  0.685660          0.674592\n",
              "\n",
              "[6 rows x 5 columns]"
            ]
          },
          "metadata": {
            "tags": []
          },
          "execution_count": 17
        }
      ]
    },
    {
      "cell_type": "markdown",
      "metadata": {
        "id": "u8GxAwRo53re",
        "colab_type": "text"
      },
      "source": [
        "Le model ayant les meilleures performanaces sur le test set est la regression logistique."
      ]
    },
    {
      "cell_type": "code",
      "metadata": {
        "id": "JeaTI6C_edO-",
        "colab_type": "code",
        "outputId": "97a953ca-e1b2-4dc2-b1a2-54aabb97f0b0",
        "colab": {
          "base_uri": "https://localhost:8080/",
          "height": 811
        }
      },
      "source": [
        "lr = LogisticRegression(featuresCol = 'embedding1', labelCol = 'label', maxIter=100,predictionCol='lrEmbedding1')\n",
        "Model = lr.fit(train)\n",
        "predictions_test = Model.transform(test)\n",
        "y_true = predictions_test.select(['label']).collect()\n",
        "y_pred = predictions_test.select(['lrEmbedding1']).collect()\n",
        "print_resultats(y_true,y_pred,mode='test')"
      ],
      "execution_count": 0,
      "outputs": [
        {
          "output_type": "stream",
          "text": [
            "================TEST=================\n",
            "              precision    recall  f1-score   support\n",
            "\n",
            "         0.0       0.71      0.70      0.71       515\n",
            "         1.0       0.70      0.71      0.70       500\n",
            "\n",
            "    accuracy                           0.70      1015\n",
            "   macro avg       0.70      0.70      0.70      1015\n",
            "weighted avg       0.70      0.70      0.70      1015\n",
            "\n",
            "Accuracy :  0.7044334975369458\n",
            "AUC :  0.7044854368932039\n"
          ],
          "name": "stdout"
        },
        {
          "output_type": "display_data",
          "data": {
            "image/png": "[encoded data removed]",
            "text/plain": [
              "<Figure size 864x720 with 2 Axes>"
            ]
          },
          "metadata": {
            "tags": [],
            "needs_background": "light"
          }
        }
      ]
    },
    {
      "cell_type": "markdown",
      "metadata": {
        "id": "WnWYXPKw1NGK",
        "colab_type": "text"
      },
      "source": [
        "On remarque que le modele fait environ le même taux d'erreur pour chacune des classes. \n",
        "\n",
        "Passons cette fois-ci au TF-IDF.\n"
      ]
    },
    {
      "cell_type": "code",
      "metadata": {
        "id": "huYX0lcr8-h4",
        "colab_type": "code",
        "colab": {}
      },
      "source": [
        "train,test = dataset.randomSplit([0.8, 0.2], seed = 42)"
      ],
      "execution_count": 0,
      "outputs": []
    },
    {
      "cell_type": "code",
      "metadata": {
        "id": "Hkj8N2K9voP_",
        "colab_type": "code",
        "outputId": "134b080f-afe7-4085-e24b-8bd0a3b594df",
        "colab": {
          "base_uri": "https://localhost:8080/",
          "height": 470
        }
      },
      "source": [
        "train = train.select(*['embedding2','label'])\n",
        "test = test.select(*['embedding2','label'])\n",
        "modeldf = pd.DataFrame(columns = [ 'Accuracy_score', 'Recall_score', 'Precision', 'f1_score',\n",
        "       'Area_under_curve'])\n",
        "lr = LogisticRegression(featuresCol = 'embedding2', labelCol = 'label', maxIter=100,predictionCol='lrEmbedding2')\n",
        "dtc = DecisionTreeClassifier(featuresCol='embedding2',labelCol='label',predictionCol='dtcEmbedding2',seed=42)\n",
        "rfc = RandomForestClassifier(featuresCol='embedding2',labelCol='label',predictionCol='rfcEmbedding2',seed=42)\n",
        "preds = ['lrEmbedding2','dtcEmbedding2','rfcEmbedding2',]\n",
        "models = [lr,dtc,rfc]\n",
        "for model,pred in zip(models,preds):\n",
        "  print(model)\n",
        "  print(datetime.datetime.now())\n",
        "  Model = model.fit(train)\n",
        "  predictions_train = Model.transform(train)\n",
        "  predictions_test = Model.transform(test)\n",
        "  print(datetime.datetime.now())\n",
        "  y_true = predictions_train.select(['label']).collect()\n",
        "  y_true_test = predictions_test.select(['label']).collect()\n",
        "  print(datetime.datetime.now())\n",
        "  y_pred = predictions_train.select([pred]).collect()\n",
        "  y_pred_test=predictions_test.select([pred]).collect()\n",
        "  modeldf = pd.concat([modeldf,model_report(y_true,y_pred)])\n",
        "  modeldf = pd.concat([modeldf,model_report(y_true_test,y_pred_test)])\n",
        "modeldf['nom']=['RegLog_train','RegLog_test','DTC_train','DTC_test','RFC_train','RFC_test']\n",
        "modeldf.set_index(['nom'])\n"
      ],
      "execution_count": 0,
      "outputs": [
        {
          "output_type": "stream",
          "text": [
            "LogisticRegression_f5a44d7e4e4e\n",
            "2020-05-15 15:29:02.929838\n",
            "2020-05-15 15:30:02.593459\n",
            "2020-05-15 15:31:09.930043\n",
            "DecisionTreeClassifier_19a9dab88fa8\n",
            "2020-05-15 15:32:17.365195\n",
            "2020-05-15 15:36:39.603640\n",
            "2020-05-15 15:37:47.878695\n",
            "RandomForestClassifier_820d6fb3789f\n",
            "2020-05-15 15:38:57.627575\n",
            "2020-05-15 15:43:28.788493\n",
            "2020-05-15 15:44:41.769437\n"
          ],
          "name": "stdout"
        },
        {
          "output_type": "execute_result",
          "data": {
            "text/html": [
              "<div>\n",
              "<style scoped>\n",
              "    .dataframe tbody tr th:only-of-type {\n",
              "        vertical-align: middle;\n",
              "    }\n",
              "\n",
              "    .dataframe tbody tr th {\n",
              "        vertical-align: top;\n",
              "    }\n",
              "\n",
              "    .dataframe thead th {\n",
              "        text-align: right;\n",
              "    }\n",
              "</style>\n",
              "<table border=\"1\" class=\"dataframe\">\n",
              "  <thead>\n",
              "    <tr style=\"text-align: right;\">\n",
              "      <th></th>\n",
              "      <th>Accuracy_score</th>\n",
              "      <th>Recall_score</th>\n",
              "      <th>Precision</th>\n",
              "      <th>f1_score</th>\n",
              "      <th>Area_under_curve</th>\n",
              "    </tr>\n",
              "    <tr>\n",
              "      <th>nom</th>\n",
              "      <th></th>\n",
              "      <th></th>\n",
              "      <th></th>\n",
              "      <th></th>\n",
              "      <th></th>\n",
              "    </tr>\n",
              "  </thead>\n",
              "  <tbody>\n",
              "    <tr>\n",
              "      <th>RegLog_train</th>\n",
              "      <td>1.000000</td>\n",
              "      <td>1.0000</td>\n",
              "      <td>1.000000</td>\n",
              "      <td>1.000000</td>\n",
              "      <td>1.000000</td>\n",
              "    </tr>\n",
              "    <tr>\n",
              "      <th>RegLog_test</th>\n",
              "      <td>0.749754</td>\n",
              "      <td>0.7320</td>\n",
              "      <td>0.753086</td>\n",
              "      <td>0.742394</td>\n",
              "      <td>0.749495</td>\n",
              "    </tr>\n",
              "    <tr>\n",
              "      <th>DTC_train</th>\n",
              "      <td>0.727729</td>\n",
              "      <td>0.6875</td>\n",
              "      <td>0.749319</td>\n",
              "      <td>0.717080</td>\n",
              "      <td>0.727881</td>\n",
              "    </tr>\n",
              "    <tr>\n",
              "      <th>DTC_test</th>\n",
              "      <td>0.729064</td>\n",
              "      <td>0.6740</td>\n",
              "      <td>0.750557</td>\n",
              "      <td>0.710221</td>\n",
              "      <td>0.728262</td>\n",
              "    </tr>\n",
              "    <tr>\n",
              "      <th>RFC_train</th>\n",
              "      <td>0.721957</td>\n",
              "      <td>0.7365</td>\n",
              "      <td>0.717137</td>\n",
              "      <td>0.726690</td>\n",
              "      <td>0.721902</td>\n",
              "    </tr>\n",
              "    <tr>\n",
              "      <th>RFC_test</th>\n",
              "      <td>0.698522</td>\n",
              "      <td>0.7020</td>\n",
              "      <td>0.690945</td>\n",
              "      <td>0.696429</td>\n",
              "      <td>0.698573</td>\n",
              "    </tr>\n",
              "  </tbody>\n",
              "</table>\n",
              "</div>"
            ],
            "text/plain": [
              "              Accuracy_score  Recall_score  ...  f1_score  Area_under_curve\n",
              "nom                                         ...                            \n",
              "RegLog_train        1.000000        1.0000  ...  1.000000          1.000000\n",
              "RegLog_test         0.749754        0.7320  ...  0.742394          0.749495\n",
              "DTC_train           0.727729        0.6875  ...  0.717080          0.727881\n",
              "DTC_test            0.729064        0.6740  ...  0.710221          0.728262\n",
              "RFC_train           0.721957        0.7365  ...  0.726690          0.721902\n",
              "RFC_test            0.698522        0.7020  ...  0.696429          0.698573\n",
              "\n",
              "[6 rows x 5 columns]"
            ]
          },
          "metadata": {
            "tags": []
          },
          "execution_count": 23
        }
      ]
    },
    {
      "cell_type": "code",
      "metadata": {
        "id": "e0Fcz6C2-9hB",
        "colab_type": "code",
        "outputId": "8c47bdbb-d57f-4d9d-911f-b9a4c4c2b07e",
        "colab": {
          "base_uri": "https://localhost:8080/",
          "height": 811
        }
      },
      "source": [
        "lr = LogisticRegression(featuresCol = 'embedding2', labelCol = 'label', maxIter=100,predictionCol='lrEmbedding2')\n",
        "Model = lr.fit(train)\n",
        "predictions_test = Model.transform(test)\n",
        "y_true = predictions_test.select(['label']).collect()\n",
        "y_pred = predictions_test.select(['lrEmbedding2']).collect()\n",
        "print_resultats(y_true,y_pred,mode='test')"
      ],
      "execution_count": 0,
      "outputs": [
        {
          "output_type": "stream",
          "text": [
            "================TEST=================\n",
            "              precision    recall  f1-score   support\n",
            "\n",
            "         0.0       0.75      0.77      0.76       515\n",
            "         1.0       0.75      0.73      0.74       500\n",
            "\n",
            "    accuracy                           0.75      1015\n",
            "   macro avg       0.75      0.75      0.75      1015\n",
            "weighted avg       0.75      0.75      0.75      1015\n",
            "\n",
            "Accuracy :  0.7497536945812808\n",
            "AUC :  0.7494951456310679\n"
          ],
          "name": "stdout"
        },
        {
          "output_type": "display_data",
          "data": {
            "image/png": "[encoded data removed]",
            "text/plain": [
              "<Figure size 864x720 with 2 Axes>"
            ]
          },
          "metadata": {
            "tags": [],
            "needs_background": "light"
          }
        }
      ]
    },
    {
      "cell_type": "markdown",
      "metadata": {
        "id": "dszAyB67--Tv",
        "colab_type": "text"
      },
      "source": [
        "### GridSearchCV\n",
        "\n",
        "Tout d'abord pour Word2Vec\n"
      ]
    },
    {
      "cell_type": "code",
      "metadata": {
        "id": "-wx-Mx1D_IjW",
        "colab_type": "code",
        "colab": {}
      },
      "source": [
        "from pyspark.ml.tuning import CrossValidator, ParamGridBuilder\n",
        "from pyspark.ml.evaluation import BinaryClassificationEvaluator\n",
        "from pyspark.ml.classification import LogisticRegression\n",
        "\n",
        "\n",
        "tokenizer = Tokenizer(inputCol='Texte',outputCol=\"token\")\n",
        "stopword = StopWordsRemover(inputCol=\"token\", outputCol=\"clean_token\").setStopWords(list(fr_stop))\n",
        "word2vec = Word2Vec(inputCol='clean_token',outputCol='features',seed=42)\n",
        "countVec = CountVectorizer(inputCol='clean_token',outputCol='rawFeatureCountVec')#minDF=0.1,minTF=0.05,vocabSize=10000\n",
        "idf = IDF(inputCol=\"rawFeatureCountVec\", outputCol=\"embedding2\")\n",
        "label_stringIdx = StringIndexer(inputCol = \"sexe\", outputCol = \"label\")\n",
        "lr = LogisticRegression(maxIter=10)\n",
        "pipe_word2vec =  Pipeline(stages=[\n",
        "                             tokenizer,\n",
        "                             stopword,\n",
        "                             word2vec,\n",
        "                             label_stringIdx,\n",
        "                             lr\n",
        "])\n",
        "paramGrid = ParamGridBuilder().addGrid(word2vec.vectorSize,[100,200,500]) \\\n",
        "  .addGrid(word2vec.minCount,[5,20,50]) \\\n",
        "  .addGrid(lr.regParam, [0.1, 0.01]) \\\n",
        "  .addGrid(lr.fitIntercept, [False, True])\\\n",
        "  .addGrid(lr.elasticNetParam, [0.0, 0.5, 1.0])\\\n",
        "  .build()\n",
        "\n",
        "crossval = CrossValidator(estimator=pipe_word2vec,\n",
        "                          estimatorParamMaps=paramGrid,\n",
        "                          evaluator=BinaryClassificationEvaluator(),\n",
        "                          numFolds=5)  \n",
        "\n",
        "cvModel = crossval.fit(df)"
      ],
      "execution_count": 0,
      "outputs": []
    },
    {
      "cell_type": "code",
      "metadata": {
        "id": "fZe221uX5rql",
        "colab_type": "code",
        "colab": {}
      },
      "source": [
        "# Make predictions on test documents. cvModel uses the best model found (lrModel).\n",
        "prediction_test = cvModel.transform(test)\n",
        "y_true = predictions_test.select(['label']).collect()\n",
        "y_pred = predictions_test.select(['result']).collect()\n",
        "print_resultats(y_true,y_pred,mode='test')"
      ],
      "execution_count": 0,
      "outputs": []
    },
    {
      "cell_type": "markdown",
      "metadata": {
        "id": "N3QV3mRdDAYD",
        "colab_type": "text"
      },
      "source": [
        "Pour tf-idf"
      ]
    },
    {
      "cell_type": "code",
      "metadata": {
        "id": "zaBE2U3aC-bj",
        "colab_type": "code",
        "colab": {}
      },
      "source": [
        "from pyspark.ml.tuning import CrossValidator, ParamGridBuilder\n",
        "from pyspark.ml.evaluation import BinaryClassificationEvaluator\n",
        "\n",
        "tokenizer = Tokenizer(inputCol='Texte',outputCol=\"token\")\n",
        "stopword = StopWordsRemover(inputCol=\"token\", outputCol=\"clean_token\").setStopWords(list(fr_stop))\n",
        "word2vec = Word2Vec(inputCol='clean_token',outputCol='embedding1',seed=42)\n",
        "countVec = CountVectorizer(inputCol='clean_token',outputCol='rawFeatureCountVec')#minDF=0.1,minTF=0.05,vocabSize=10000\n",
        "idf = IDF(inputCol=\"rawFeatureCountVec\", outputCol=\"features\")\n",
        "label_stringIdx = StringIndexer(inputCol = \"sexe\", outputCol = \"label\")\n",
        "lr = LogisticRegression(maxIter=10)\n",
        "pipe_idf =  Pipeline(stages=[\n",
        "                             tokenizer,\n",
        "                             stopword,\n",
        "                             countVec,\n",
        "                             idf,\n",
        "                             label_stringIdx,\n",
        "                             lr\n",
        "])\n",
        "paramGrid = ParamGridBuilder().addGrid(countVec.minTF,[0.05,0.1,0.15,0.2]) \\\n",
        "  .addGrid(countVec.minDF,[0.05,0.1,0.15,0.2]) \\\n",
        "  .addGrid(lr.regParam, [0.1, 0.01]) \\\n",
        "  .addGrid(lr.fitIntercept, [False, True])\\\n",
        "  .addGrid(lr.elasticNetParam, [0.0, 0.5, 1.0])\\\n",
        "  .build()\n",
        "\n",
        "crossval = CrossValidator(estimator=pipe_idf,\n",
        "                          estimatorParamMaps=paramGrid,\n",
        "                          evaluator=BinaryClassificationEvaluator(),\n",
        "                          numFolds=5)  \n",
        "\n",
        "cvModel = crossval.fit(df)"
      ],
      "execution_count": 0,
      "outputs": []
    },
    {
      "cell_type": "code",
      "metadata": {
        "id": "5unnDRC95tQ9",
        "colab_type": "code",
        "colab": {}
      },
      "source": [
        "# Make predictions on test documents. cvModel uses the best model found (lrModel).\n",
        "prediction_test = cvModel.transform(test)"
      ],
      "execution_count": 0,
      "outputs": []
    }
  ]
}